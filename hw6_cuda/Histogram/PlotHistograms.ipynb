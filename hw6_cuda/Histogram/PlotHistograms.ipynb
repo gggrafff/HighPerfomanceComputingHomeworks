{
 "cells": [
  {
   "cell_type": "code",
   "execution_count": 9,
   "metadata": {},
   "outputs": [
    {
     "name": "stdout",
     "output_type": "stream",
     "text": [
      "[266890, 117425, 88201, 76517, 75328, 79961, 94574, 109632, 117295, 131160, 139967, 154825, 155659, 136421, 242124, 471621]\n",
      "[135011, 134337, 138723, 154880, 175722, 179475, 192512, 202883, 217547, 253623, 231366, 232836, 125177, 60318, 18381, 4809]\n",
      "[869177, 183073, 168932, 157863, 150557, 158423, 138065, 132434, 112845, 104724, 90476, 68170, 50508, 30136, 15589, 26628]\n"
     ]
    }
   ],
   "source": [
    "r_hist = None\n",
    "g_hist = None\n",
    "b_hist = None\n",
    "\n",
    "with open('r_hist.txt', 'r') as f:\n",
    "    r_hist = [int(num) for num in f.read().strip().split(' ')]\n",
    "with open('g_hist.txt', 'r') as f:\n",
    "    g_hist = [int(num) for num in f.read().strip().split(' ')]\n",
    "with open('b_hist.txt', 'r') as f:\n",
    "    b_hist = [int(num) for num in f.read().strip().split(' ')]\n",
    "\n",
    "print(r_hist)\n",
    "print(g_hist)\n",
    "print(b_hist)"
   ]
  },
  {
   "cell_type": "code",
   "execution_count": 19,
   "metadata": {},
   "outputs": [],
   "source": [
    "import matplotlib.pyplot as plt\n",
    "%matplotlib inline\n",
    "\n",
    "bins = list(range(0, 256 + 1, 16))"
   ]
  },
  {
   "cell_type": "code",
   "execution_count": 26,
   "metadata": {
    "scrolled": true
   },
   "outputs": [
    {
     "data": {
      "image/png": "[encoded data removed]",
      "text/plain": [
       "<Figure size 432x288 with 1 Axes>"
      ]
     },
     "metadata": {
      "needs_background": "light"
     },
     "output_type": "display_data"
    }
   ],
   "source": [
    "plt.hist(bins[:-1], bins, weights=r_hist)\n",
    "plt.savefig(\"r_hist.png\")"
   ]
  },
  {
   "cell_type": "code",
   "execution_count": 28,
   "metadata": {},
   "outputs": [
    {
     "data": {
      "image/png": "[encoded data removed]",
      "text/plain": [
       "<Figure size 432x288 with 1 Axes>"
      ]
     },
     "metadata": {
      "needs_background": "light"
     },
     "output_type": "display_data"
    }
   ],
   "source": [
    "plt.hist(bins[:-1], bins, weights=g_hist)\n",
    "plt.savefig(\"g_hist.png\")"
   ]
  },
  {
   "cell_type": "code",
   "execution_count": 29,
   "metadata": {},
   "outputs": [
    {
     "data": {
      "image/png": "[encoded data removed]",
      "text/plain": [
       "<Figure size 432x288 with 1 Axes>"
      ]
     },
     "metadata": {
      "needs_background": "light"
     },
     "output_type": "display_data"
    }
   ],
   "source": [
    "plt.hist(bins[:-1], bins, weights=b_hist)\n",
    "plt.savefig(\"b_hist.png\")"
   ]
  },
  {
   "cell_type": "code",
   "execution_count": null,
   "metadata": {},
   "outputs": [],
   "source": []
  }
 ],
 "metadata": {
  "kernelspec": {
   "display_name": "Python 3",
   "language": "python",
   "name": "python3"
  },
  "language_info": {
   "codemirror_mode": {
    "name": "ipython",
    "version": 3
   },
   "file_extension": ".py",
   "mimetype": "text/x-python",
   "name": "python",
   "nbconvert_exporter": "python",
   "pygments_lexer": "ipython3",
   "version": "3.7.4"
  }
 },
 "nbformat": 4,
 "nbformat_minor": 2
}
